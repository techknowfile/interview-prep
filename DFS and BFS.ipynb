{
 "cells": [
  {
   "cell_type": "code",
   "execution_count": 29,
   "metadata": {},
   "outputs": [],
   "source": [
    "class Node:\n",
    "    def __init__(self, data):\n",
    "        self.left = None\n",
    "        self.right = None\n",
    "        self.data = data\n",
    "        \n",
    "    def __repr__(self):\n",
    "        return f'Node: {self.data}'\n",
    "        \n",
    "def preorder(node, arr):\n",
    "    if node:\n",
    "        arr.append(node.data)\n",
    "        preorder(node.left, arr)\n",
    "        preorder(node.right, arr)\n",
    "        \n",
    "def inorder(node, arr):\n",
    "    if node:\n",
    "        inorder(node.left, arr)\n",
    "        arr.append(node.data)\n",
    "        inorder(node.right, arr)\n",
    "        \n",
    "def postorder(node, arr):\n",
    "    if node:\n",
    "        postorder(node.left, arr)\n",
    "        postorder(node.right, arr)\n",
    "        arr.append(node.data)\n",
    "        \n",
    "def dfs(node, traversal='inorder'):\n",
    "    result = []\n",
    "    if traversal == 'inorder':\n",
    "        inorder(node, result)\n",
    "    elif traversal == 'preorder':\n",
    "        preorder(node, result)\n",
    "    elif traversal == 'postorder':\n",
    "        postorder(node, result)\n",
    "    else:\n",
    "        raise Exception('Invalided traversal method. Specify one of the following: [inorder, preorder, postorder]')\n",
    "    return result"
   ]
  },
  {
   "cell_type": "code",
   "execution_count": 30,
   "metadata": {},
   "outputs": [
    {
     "name": "stdout",
     "output_type": "stream",
     "text": [
      "[45, 34, 50, 10, 89]\n",
      "[10, 34, 45, 50, 89]\n",
      "[45, 50, 34, 89, 10]\n"
     ]
    }
   ],
   "source": [
    "root = Node(10)\n",
    "root.left = Node(34)\n",
    "root.right = Node(89)\n",
    "root.left.left = Node(45)\n",
    "root.left.right = Node(50)\n",
    "\"\"\"\n",
    "          10\n",
    "        /    \\\n",
    "       34      89\n",
    "     /    \\ \n",
    "    45    50 \n",
    "\"\"\"\n",
    "\n",
    "print(dfs(root, 'inorder'))\n",
    "print(dfs(root, 'preorder'))\n",
    "print(dfs(root, 'postorder'))"
   ]
  },
  {
   "cell_type": "code",
   "execution_count": null,
   "metadata": {},
   "outputs": [],
   "source": []
  }
 ],
 "metadata": {
  "kernelspec": {
   "display_name": "Python 3",
   "language": "python",
   "name": "python3"
  },
  "language_info": {
   "codemirror_mode": {
    "name": "ipython",
    "version": 3
   },
   "file_extension": ".py",
   "mimetype": "text/x-python",
   "name": "python",
   "nbconvert_exporter": "python",
   "pygments_lexer": "ipython3",
   "version": "3.8.3"
  }
 },
 "nbformat": 4,
 "nbformat_minor": 4
}
