{
 "cells": [
  {
   "cell_type": "code",
   "execution_count": 4,
   "metadata": {},
   "outputs": [
    {
     "name": "stdout",
     "output_type": "stream",
     "text": [
      "[0, 1, 2, 3, 4, 5, 6, 7, 8]\n"
     ]
    }
   ],
   "source": [
    "from random import randrange as rr\n",
    "import random\n",
    "from heapq import *\n",
    "import time\n",
    "\n",
    "def partition(A, l, r):\n",
    "    #random pivot\n",
    "    idx = rr(l, r)\n",
    "    A[r], A[idx] = A[idx], A[r]\n",
    "\n",
    "    p = A[r] #pivot\n",
    "    i = l\n",
    "    for j in range(l, r):\n",
    "        if A[j] <= p:\n",
    "            A[i], A[j] = A[j], A[i]\n",
    "            i += 1\n",
    "\n",
    "    A[i], A[r] = A[r], A[i]\n",
    "    return i\n",
    "        \n",
    "def quicksort(A):\n",
    "    def _quicksort(l, r):\n",
    "        if l >= r:\n",
    "            return\n",
    "        mid = partition(A, l, r)\n",
    "        _quicksort(l, mid-1)\n",
    "        _quicksort(mid+1, r)\n",
    "        \n",
    "    _quicksort(0, len(A)-1)\n",
    "\n",
    "A = [5, 2, 3, 1, 8, 7, 6, 0, 4]\n",
    "quicksort(A)\n",
    "print(A)"
   ]
  },
  {
   "cell_type": "code",
   "execution_count": 157,
   "metadata": {},
   "outputs": [
    {
     "name": "stdout",
     "output_type": "stream",
     "text": [
      "[0, 1, 1, 5, 6, 7, 8, 8, 8, 10, 10, 11, 12, 12, 13, 16, 16, 18, 19, 19, 21, 22, 22, 23, 23, 23, 27, 32, 35, 35, 36, 36, 36, 38, 38, 39, 39, 39, 40, 40, 41, 41, 42, 42, 44, 45, 47, 47, 48, 50, 51, 53, 53, 54, 58, 58, 58, 59, 59, 61, 61, 63, 67, 67, 68, 68, 68, 69, 70, 70, 71, 73, 74, 75, 75, 75, 76, 78, 81, 82, 85, 85, 87, 87, 88, 89, 91, 93, 94, 94, 96, 96, 97, 97, 97, 98, 99, 99, 99, 99]\n",
      "[99, 99, 99]\n",
      "topK took 0.00011784900016209576 seconds.\n",
      "[99, 99, 99]\n",
      "topK_heap_naive took 4.460499985725619e-05 seconds.\n",
      "[99, 99, 99]\n",
      "topK_heap took 6.603800011362182e-05 seconds.\n"
     ]
    }
   ],
   "source": [
    "def topK(A, k):\n",
    "    \"\"\"Quickselect largest k\"\"\"\n",
    "    def partition(A, l, r):\n",
    "        #random pivot\n",
    "        idx = rr(l, r)\n",
    "        A[r], A[idx] = A[idx], A[r]\n",
    "\n",
    "        p = A[r] #pivot\n",
    "        i = l\n",
    "        for j in range(l, r):\n",
    "            if A[j] <= p:\n",
    "                A[i], A[j] = A[j], A[i]\n",
    "                i += 1\n",
    "\n",
    "        A[i], A[r] = A[r], A[i]\n",
    "        return i\n",
    "    \n",
    "    kIdx = len(A)-3\n",
    "    def _topK(l, r):\n",
    "        if l==r:\n",
    "            return\n",
    "        p = partition(A, l, r)\n",
    "        if p == kIdx:\n",
    "            return\n",
    "        if p < kIdx:\n",
    "            _topK(p+1, r)\n",
    "        if p > kIdx:\n",
    "            _topK(l, p-1)\n",
    "        \n",
    "    _topK(0, len(A)-1)\n",
    "    return A[kIdx:]\n",
    "\n",
    "def topK_heap_naive(A, k):\n",
    "    heap = [-a for a in A]\n",
    "    heapify(heap)\n",
    "    return [-heappop(heap) for _ in range(k)]\n",
    "\n",
    "def topK_heap(A, k):\n",
    "    heap = A[0:k]\n",
    "    heapify(heap)\n",
    "    for i in range(k, len(A)):\n",
    "        if A[i] > heap[0]:\n",
    "            heapreplace(heap, A[i])\n",
    "    \n",
    "    return heap\n",
    "\n",
    "\n",
    "def time_func(func, *args, **kwargs):\n",
    "    start = time.perf_counter()\n",
    "    print(func(*args, **kwargs))\n",
    "    end = time.perf_counter()\n",
    "    print(f'{func.__name__} took {end-start} seconds.')\n",
    "\n",
    "A = [rr(0, 100) for _ in range(100)]\n",
    "print(sorted(A))\n",
    "time_func(topK, A[:], 3)\n",
    "time_func(topK_heap_naive, A[:], 3)\n",
    "time_func(topK_heap, A[:], 3)"
   ]
  },
  {
   "cell_type": "code",
   "execution_count": null,
   "metadata": {},
   "outputs": [],
   "source": []
  },
  {
   "cell_type": "code",
   "execution_count": null,
   "metadata": {},
   "outputs": [],
   "source": []
  }
 ],
 "metadata": {
  "kernelspec": {
   "display_name": "Python 3",
   "language": "python",
   "name": "python3"
  },
  "language_info": {
   "codemirror_mode": {
    "name": "ipython",
    "version": 3
   },
   "file_extension": ".py",
   "mimetype": "text/x-python",
   "name": "python",
   "nbconvert_exporter": "python",
   "pygments_lexer": "ipython3",
   "version": "3.8.3"
  }
 },
 "nbformat": 4,
 "nbformat_minor": 4
}
