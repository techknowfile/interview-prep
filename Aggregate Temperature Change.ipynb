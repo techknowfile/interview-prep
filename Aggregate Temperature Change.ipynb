{
 "cells": [
  {
   "cell_type": "code",
   "execution_count": 3,
   "metadata": {},
   "outputs": [],
   "source": [
    "def getAggregateTemperatureChange(tempChanges):\n",
    "    leftAgg = [0]*len(tempChanges)\n",
    "    rightAgg = [0]*len(tempChanges)\n",
    "    \n",
    "    for i in range(len(tempChanges)):\n",
    "        leftAgg[i] = (leftAgg[i-1] if i > 0 else 0) + tempChanges[i]\n",
    "    for i in range(len(tempChanges) - 1, -1, -1):\n",
    "        rightAgg[i] = (rightAgg[i+1] if i < len(tempChanges) - 1 else 0) + tempChanges[i]\n",
    "        \n",
    "    return max([max([leftAgg[i], rightAgg[i]]) for i in range(len(tempChanges))])\n",
    "\n",
    "# [4, -2, 5, 7, -3, -2]\n",
    "# Calculate sums from left (leftAgg)\n",
    "# Calculate sums from right (rightAgg)\n",
    "# max([max(leftAgg[i], rightAgg[i]) for i in range(len(tempChanges))])\n",
    "#\n",
    "#"
   ]
  },
  {
   "cell_type": "code",
   "execution_count": 6,
   "metadata": {},
   "outputs": [
    {
     "data": {
      "text/plain": [
       "5"
      ]
     },
     "execution_count": 6,
     "metadata": {},
     "output_type": "execute_result"
    }
   ],
   "source": [
    "getAggregateTemperatureChange([-1, 2, 3])"
   ]
  },
  {
   "cell_type": "code",
   "execution_count": null,
   "metadata": {},
   "outputs": [],
   "source": []
  }
 ],
 "metadata": {
  "kernelspec": {
   "display_name": "Python 3",
   "language": "python",
   "name": "python3"
  },
  "language_info": {
   "codemirror_mode": {
    "name": "ipython",
    "version": 3
   },
   "file_extension": ".py",
   "mimetype": "text/x-python",
   "name": "python",
   "nbconvert_exporter": "python",
   "pygments_lexer": "ipython3",
   "version": "3.8.3"
  }
 },
 "nbformat": 4,
 "nbformat_minor": 4
}
