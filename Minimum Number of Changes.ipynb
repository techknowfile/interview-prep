{
 "cells": [
  {
   "cell_type": "code",
   "execution_count": 16,
   "metadata": {},
   "outputs": [
    {
     "name": "stdout",
     "output_type": "stream",
     "text": [
      "51 55\n"
     ]
    },
    {
     "data": {
      "text/plain": [
       "51"
      ]
     },
     "execution_count": 16,
     "metadata": {},
     "output_type": "execute_result"
    }
   ],
   "source": [
    "def minNumberOfChanges(s):\n",
    "    heads = 0\n",
    "    tails = 0\n",
    "    hf_flips = 0\n",
    "    tf_flips = 0\n",
    "    for c in s:\n",
    "        if c == 'H':\n",
    "            heads += 1\n",
    "            hf_flips = min(tails, hf_flips + 1)\n",
    "        if c == 'T':\n",
    "            tails += 1\n",
    "            tf_flips = min(heads, tf_flips + 1)\n",
    "    print(hf_flips, tf_flips)\n",
    "    return min(hf_flips, tf_flips)\n",
    "\n",
    "minNumberOfChanges('THTTHTTHTHHTHTHTHHHTHTTTHTHTHHTHTHHHTHTHHHHTTHTTTTTTTTTHHHHTHHHHHHHHHHTTHTHTTTTTTTTTTTTTTTTTTTTTTTTTTTHHHTHTHHTHTHHTTTHTHHHTHTTHTHHHTT')\n"
   ]
  },
  {
   "cell_type": "code",
   "execution_count": null,
   "metadata": {},
   "outputs": [],
   "source": []
  }
 ],
 "metadata": {
  "kernelspec": {
   "display_name": "Python 3",
   "language": "python",
   "name": "python3"
  },
  "language_info": {
   "codemirror_mode": {
    "name": "ipython",
    "version": 3
   },
   "file_extension": ".py",
   "mimetype": "text/x-python",
   "name": "python",
   "nbconvert_exporter": "python",
   "pygments_lexer": "ipython3",
   "version": "3.8.3"
  }
 },
 "nbformat": 4,
 "nbformat_minor": 4
}
