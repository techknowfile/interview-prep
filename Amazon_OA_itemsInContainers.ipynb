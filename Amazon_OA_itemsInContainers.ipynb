{
 "cells": [
  {
   "cell_type": "code",
   "execution_count": 34,
   "metadata": {},
   "outputs": [],
   "source": [
    "def items_in_compartments(s, startIndices, endIndices):\n",
    "    answer = []\n",
    "    stars = [0]*len(s)\n",
    "    \n",
    "    # get count of stars to the right at each index\n",
    "    star_count = 0\n",
    "    for i in range(len(s)-1, -1, -1):\n",
    "        if s[i] == '*':\n",
    "            star_count += 1\n",
    "        stars[i] = star_count\n",
    "        \n",
    "    \n",
    "    # get closest pipe to the left at each index\n",
    "    leftpipeindex = [-1]*len(s)\n",
    "    lastpipeindex = -1\n",
    "    for i in range(len(s)):\n",
    "        if s[i] == '|':\n",
    "            lastpipeindex = i\n",
    "        leftpipeindex[i]=lastpipeindex\n",
    "    \n",
    "    # get closest pipe to the right at each index\n",
    "    rightpipeindex = [-1]*len(s)\n",
    "    lastpipeindex = -1\n",
    "    for i in range(len(s) - 1, -1, -1):\n",
    "        if s[i] == '|':\n",
    "            lastpipeindex = i\n",
    "        rightpipeindex[i]=lastpipeindex\n",
    "        \n",
    "    # for each window\n",
    "    for i in range(len(startIndices)):\n",
    "        start, end = startIndices[i] - 1, endIndices[i] -1\n",
    "        # get closest pipe to the right of start\n",
    "        leftpipe = rightpipeindex[start]\n",
    "        # get closest pipe to left left of end\n",
    "        rightpipe = leftpipeindex[end]\n",
    "        \n",
    "        if leftpipe == -1 or rightpipe == -1:\n",
    "            answer.append(0)\n",
    "            continue\n",
    "        # calculate\n",
    "        print(stars, leftpipe, rightpipe)\n",
    "        _stars = stars[leftpipe] - stars[rightpipe]\n",
    "        answer.append(_stars)\n",
    "        \n",
    "    return answer"
   ]
  },
  {
   "cell_type": "code",
   "execution_count": 35,
   "metadata": {},
   "outputs": [],
   "source": [
    "def main():\n",
    "    print(items_in_compartments('**|*||***|*|****', [1, 1], [9, 10]))"
   ]
  },
  {
   "cell_type": "code",
   "execution_count": 36,
   "metadata": {},
   "outputs": [
    {
     "name": "stdout",
     "output_type": "stream",
     "text": [
      "[11, 10, 9, 9, 8, 8, 8, 7, 6, 5, 5, 4, 4, 3, 2, 1] 2 5\n",
      "[11, 10, 9, 9, 8, 8, 8, 7, 6, 5, 5, 4, 4, 3, 2, 1] 2 9\n",
      "[1, 4]\n"
     ]
    }
   ],
   "source": [
    "main()"
   ]
  },
  {
   "cell_type": "code",
   "execution_count": null,
   "metadata": {},
   "outputs": [],
   "source": []
  }
 ],
 "metadata": {
  "kernelspec": {
   "display_name": "Python 3",
   "language": "python",
   "name": "python3"
  },
  "language_info": {
   "codemirror_mode": {
    "name": "ipython",
    "version": 3
   },
   "file_extension": ".py",
   "mimetype": "text/x-python",
   "name": "python",
   "nbconvert_exporter": "python",
   "pygments_lexer": "ipython3",
   "version": "3.8.3"
  }
 },
 "nbformat": 4,
 "nbformat_minor": 4
}
