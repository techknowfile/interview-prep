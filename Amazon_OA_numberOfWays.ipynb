{
 "cells": [
  {
   "cell_type": "code",
   "execution_count": 3,
   "metadata": {},
   "outputs": [
    {
     "data": {
      "text/plain": [
       "5"
      ]
     },
     "execution_count": 3,
     "metadata": {},
     "output_type": "execute_result"
    }
   ],
   "source": [
    "def number_of_ways(book):\n",
    "    dp = {\n",
    "        '0': 0,\n",
    "        '1': 0,\n",
    "        '01': 0,\n",
    "        '10': 0,\n",
    "        '010': 0,\n",
    "        '101': 0\n",
    "    }\n",
    "    for p in book:\n",
    "        if p == '0':\n",
    "            dp['0'] += 1\n",
    "            dp['10'] += dp['1']\n",
    "            dp['010'] += dp['01']\n",
    "        if p == '1':\n",
    "            dp['1'] += 1\n",
    "            dp['01'] += dp['0']\n",
    "            dp['101'] += dp['10']\n",
    "            \n",
    "    return dp['101'] + dp['010']\n",
    "    \n",
    "number_of_ways('01010')"
   ]
  },
  {
   "cell_type": "code",
   "execution_count": null,
   "metadata": {},
   "outputs": [],
   "source": []
  },
  {
   "cell_type": "code",
   "execution_count": null,
   "metadata": {},
   "outputs": [],
   "source": []
  }
 ],
 "metadata": {
  "kernelspec": {
   "display_name": "Python 3",
   "language": "python",
   "name": "python3"
  },
  "language_info": {
   "codemirror_mode": {
    "name": "ipython",
    "version": 3
   },
   "file_extension": ".py",
   "mimetype": "text/x-python",
   "name": "python",
   "nbconvert_exporter": "python",
   "pygments_lexer": "ipython3",
   "version": "3.8.3"
  }
 },
 "nbformat": 4,
 "nbformat_minor": 4
}
