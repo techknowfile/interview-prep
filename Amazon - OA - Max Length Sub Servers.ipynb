{
 "cells": [
  {
   "cell_type": "code",
   "execution_count": 33,
   "metadata": {},
   "outputs": [
    {
     "data": {
      "text/plain": [
       "6"
      ]
     },
     "execution_count": 33,
     "metadata": {},
     "output_type": "execute_result"
    }
   ],
   "source": [
    "from heapq import *\n",
    "from random import randrange\n",
    "def maxLengthValidSubArray(processingPower, bootingPower, maxPower):\n",
    "    n = len(processingPower)\n",
    "    currProcessingPower = 0\n",
    "    maxBootHeap = []\n",
    "    maxLength = 0\n",
    "    left = 0\n",
    "    tombstones = {}\n",
    "    \n",
    "    for right in range(n):\n",
    "        heappush(maxBootHeap, bootingPower[right])\n",
    "        currProcessingPower += processingPower[right]\n",
    "        totalPower = maxBootHeap[0] + currProcessingPower*(right-left + 1)\n",
    "        while totalPower > maxPower:\n",
    "            # When heap is empty, totalPower is 0 and left = right+1\n",
    "            # maxBootHeap.remove(bootingPower[left]) # O(N) -- can be improved to O(1) with indexed heap\n",
    "            # heapify(maxBootHeap) # O(N) -- can be improved to O(logn) with _siftup...\n",
    "            heapremove(maxBootHeap, bootingPower[left], tombstones)\n",
    "            currProcessingPower -= processingPower[left] \n",
    "            left += 1\n",
    "            totalPower = maxBootHeap[0] + currProcessingPower*(right-left + 1) if maxBootHeap else 0\n",
    "            \n",
    "        if right >= left:\n",
    "            maxLength = max(maxLength, right-left+1)\n",
    "            \n",
    "    return maxLength\n",
    "\n",
    "def heapremove(heap, value, tombstones):\n",
    "    tombstones[value] = tombstones.get(value, 0) + 1\n",
    "    while len(heap) and heap[0] in tombstones and tombstones[heap[0]]:\n",
    "        heappop(heap)\n",
    "\n",
    "\n",
    "maxLengthValidSubArray([randrange(1000) for _ in range(200000)], [randrange(1000) for _ in range(200000)], randrange(200000))"
   ]
  },
  {
   "cell_type": "code",
   "execution_count": null,
   "metadata": {},
   "outputs": [],
   "source": [
    "\"\"\"\n",
    "Question2:\n",
    "Give you a list servers. Their processing power is given as a array of integer, and boot power as a array of integer.\n",
    "Write a function to return the max length of sub array with power consumption less than or equal to max power limit.\n",
    "Formula to calculate the power consumption for a subArray is:\n",
    "Max(bootPower[i...j]) + Sum(processPower[i....j]) * length of subArray.\n",
    "\n",
    "Note: Single server is also a subArray, return 0 if no such subArray can be found.\n",
    "\n",
    "\n",
    "\n",
    "\"\"\""
   ]
  }
 ],
 "metadata": {
  "kernelspec": {
   "display_name": "Python 3",
   "language": "python",
   "name": "python3"
  },
  "language_info": {
   "codemirror_mode": {
    "name": "ipython",
    "version": 3
   },
   "file_extension": ".py",
   "mimetype": "text/x-python",
   "name": "python",
   "nbconvert_exporter": "python",
   "pygments_lexer": "ipython3",
   "version": "3.8.3"
  }
 },
 "nbformat": 4,
 "nbformat_minor": 4
}
